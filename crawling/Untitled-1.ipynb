{
 "cells": [
  {
   "cell_type": "code",
   "execution_count": 17,
   "metadata": {},
   "outputs": [],
   "source": [
    "from selenium import webdriver\n",
    "import time\n",
    "import os \n",
    "from urllib.request import urlretrieve\n",
    "\n",
    "    \n",
    "driver = webdriver.Chrome(r'C:\\Users\\shiminsu\\Desktop\\실습\\likelion\\tuguru\\crawling\\chromedriver.exe')\n",
    "\n",
    "img_folder = './img'\n",
    "if not os.path.isdir(img_folder): # 폴더 없으면 새로 생성하는 조건문 \n",
    "    os.mkdir(img_folder)\n",
    "\n",
    "page = list(range(1,57))\n",
    "img_url = []\n",
    "\n",
    "for page_num in page:\n",
    "    url = f'https://companiesmarketcap.com/page/{page_num}'\n",
    "    driver.get(url)\n",
    "    # time.sleep(5)\n",
    "    brand_image = driver.find_elements_by_css_selector('img.company-logo')\n",
    "  \n",
    "    for image in brand_image :\n",
    "        url = image.get_attribute('src')\n",
    "        img_url.append(url)\n",
    "\n",
    "\n",
    "\n"
   ]
  },
  {
   "cell_type": "code",
   "execution_count": 79,
   "metadata": {},
   "outputs": [
    {
     "name": "stdout",
     "output_type": "stream",
     "text": [
      "5517\n"
     ]
    }
   ],
   "source": [
    "print(len(img_url))"
   ]
  },
  {
   "cell_type": "code",
   "execution_count": 34,
   "metadata": {},
   "outputs": [
    {
     "data": {
      "text/plain": [
       "True"
      ]
     },
     "execution_count": 34,
     "metadata": {},
     "output_type": "execute_result"
    }
   ],
   "source": []
  }
 ],
 "metadata": {
  "interpreter": {
   "hash": "747c7b094eff8f465f00b73f1c2fc246dc10174063032232506c5ae84d4f5a61"
  },
  "kernelspec": {
   "display_name": "Python 3.9.6 64-bit ('venv': venv)",
   "name": "python3"
  },
  "language_info": {
   "codemirror_mode": {
    "name": "ipython",
    "version": 3
   },
   "file_extension": ".py",
   "mimetype": "text/x-python",
   "name": "python",
   "nbconvert_exporter": "python",
   "pygments_lexer": "ipython3",
   "version": "3.9.6"
  },
  "orig_nbformat": 4
 },
 "nbformat": 4,
 "nbformat_minor": 2
}
