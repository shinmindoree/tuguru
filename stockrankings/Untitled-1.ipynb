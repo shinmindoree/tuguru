{
 "cells": [
  {
   "cell_type": "code",
   "execution_count": 22,
   "metadata": {},
   "outputs": [
    {
     "name": "stdout",
     "output_type": "stream",
     "text": [
      "['short_name', 'long_name', 'summary', 'currency', 'sector', 'industry', 'exchange', 'market', 'country', 'state', 'city', 'zipcode', 'website', 'full_time_employees']\n"
     ]
    }
   ],
   "source": [
    "import FinanceDatabase as fd\n",
    "from yfinance.utils import get_json\n",
    "from yfinance import download\n",
    "\n",
    "stocks = fd.select_equities(country='United States')\n",
    "\n",
    "a = list(stocks['AMZN'])\n",
    "print(a)\n"
   ]
  }
 ],
 "metadata": {
  "interpreter": {
   "hash": "747c7b094eff8f465f00b73f1c2fc246dc10174063032232506c5ae84d4f5a61"
  },
  "kernelspec": {
   "display_name": "Python 3.9.6 64-bit ('venv': venv)",
   "name": "python3"
  },
  "language_info": {
   "codemirror_mode": {
    "name": "ipython",
    "version": 3
   },
   "file_extension": ".py",
   "mimetype": "text/x-python",
   "name": "python",
   "nbconvert_exporter": "python",
   "pygments_lexer": "ipython3",
   "version": "3.9.6"
  },
  "orig_nbformat": 4
 },
 "nbformat": 4,
 "nbformat_minor": 2
}
