{
 "cells": [
  {
   "cell_type": "code",
   "execution_count": 106,
   "metadata": {},
   "outputs": [],
   "source": [
    "import FinanceDatabase as fd\n",
    "from yfinance.utils import get_json\n",
    "from yfinance import download\n",
    "import requests\n",
    "\n",
    "stocks = fd.select_equities(country='United States', industry='Advertising Agencies')\n",
    "\n",
    "fundamentals = {}\n",
    "for symbol in stocks:\n",
    "    fundamentals[symbol] = get_json(\n",
    "        \"https://finance.yahoo.com/quote/\" + symbol)\n",
    "\n"
   ]
  },
  {
   "cell_type": "code",
   "execution_count": 129,
   "metadata": {},
   "outputs": [
    {
     "name": "stdout",
     "output_type": "stream",
     "text": [
      "79\n",
      "79\n"
     ]
    }
   ],
   "source": [
    "print(len(fundamentals.keys()))\n",
    "\n",
    "if fundamentals.values():\n",
    "    print(len(fundamentals.keys()))\n",
    "  "
   ]
  },
  {
   "cell_type": "code",
   "execution_count": 108,
   "metadata": {},
   "outputs": [
    {
     "name": "stdout",
     "output_type": "stream",
     "text": [
      "Townsquare Media, Inc.\n",
      "183602096\n",
      "United States\n",
      "Boston Omaha Corporation\n",
      "897512832\n",
      "United States\n",
      "QuinStreet, Inc.\n",
      "661862208\n",
      "United States\n",
      "Fluent, Inc.\n",
      "155977696\n",
      "United States\n",
      "Adaptive Ad Systems, Inc.\n",
      "27000\n",
      "United States\n",
      "Alliance Creative Group, Inc.\n",
      "270469\n",
      "United States\n",
      "Artec Global Media, Inc.\n",
      "139843\n",
      "United States\n",
      "Advantage Solutions Inc.\n",
      "2720622080\n",
      "United States\n",
      "Bio Lab Naturals, Inc.\n",
      "1789995\n",
      "United States\n",
      "Boston Omaha Corporation\n",
      "1048472768\n",
      "United States\n",
      "Bang Holdings Corp.\n",
      "3574\n",
      "United States\n",
      "Beyond Commerce, Inc.\n",
      "5131521\n",
      "United States\n",
      "Clear Channel Outdoor Holdings, Inc.\n",
      "1168918656\n",
      "United States\n",
      "Clear Channel Outdoor Holdings, Inc.\n",
      "1370124032\n",
      "United States\n",
      "Inuvo, Inc.\n",
      "74480600\n",
      "United States\n",
      "CMG Holdings Group, Inc.\n",
      "4021745\n",
      "United States\n",
      "CFN Enterprises Inc.\n",
      "10870922\n",
      "United States\n",
      "Cognitiv, Inc.\n",
      "140051\n",
      "United States\n"
     ]
    },
    {
     "ename": "KeyError",
     "evalue": "'quoteType'",
     "output_type": "error",
     "traceback": [
      "\u001b[1;31m---------------------------------------------------------------------------\u001b[0m",
      "\u001b[1;31mKeyError\u001b[0m                                  Traceback (most recent call last)",
      "\u001b[1;32m~\\AppData\\Local\\Temp/ipykernel_17300/1597849813.py\u001b[0m in \u001b[0;36m<module>\u001b[1;34m\u001b[0m\n\u001b[0;32m      1\u001b[0m \u001b[1;32mfor\u001b[0m \u001b[0msymbols\u001b[0m \u001b[1;32min\u001b[0m \u001b[0mlist\u001b[0m\u001b[1;33m(\u001b[0m\u001b[0mfundamentals\u001b[0m\u001b[1;33m)\u001b[0m\u001b[1;33m:\u001b[0m\u001b[1;33m\u001b[0m\u001b[1;33m\u001b[0m\u001b[0m\n\u001b[1;32m----> 2\u001b[1;33m     \u001b[0mcompanyname\u001b[0m \u001b[1;33m=\u001b[0m \u001b[0mfundamentals\u001b[0m\u001b[1;33m[\u001b[0m\u001b[0msymbols\u001b[0m\u001b[1;33m]\u001b[0m\u001b[1;33m[\u001b[0m\u001b[1;34m'quoteType'\u001b[0m\u001b[1;33m]\u001b[0m\u001b[1;33m[\u001b[0m\u001b[1;34m'longName'\u001b[0m\u001b[1;33m]\u001b[0m\u001b[1;33m\u001b[0m\u001b[1;33m\u001b[0m\u001b[0m\n\u001b[0m\u001b[0;32m      3\u001b[0m     \u001b[0mmarketcap\u001b[0m \u001b[1;33m=\u001b[0m \u001b[0mfundamentals\u001b[0m\u001b[1;33m[\u001b[0m\u001b[0msymbols\u001b[0m\u001b[1;33m]\u001b[0m\u001b[1;33m[\u001b[0m\u001b[1;34m'price'\u001b[0m\u001b[1;33m]\u001b[0m\u001b[1;33m[\u001b[0m\u001b[1;34m'marketCap'\u001b[0m\u001b[1;33m]\u001b[0m\u001b[1;33m\u001b[0m\u001b[1;33m\u001b[0m\u001b[0m\n\u001b[0;32m      4\u001b[0m     \u001b[0mcountry\u001b[0m \u001b[1;33m=\u001b[0m \u001b[0mfundamentals\u001b[0m\u001b[1;33m[\u001b[0m\u001b[0msymbols\u001b[0m\u001b[1;33m]\u001b[0m\u001b[1;33m[\u001b[0m\u001b[1;34m'summaryProfile'\u001b[0m\u001b[1;33m]\u001b[0m\u001b[1;33m[\u001b[0m\u001b[1;34m'country'\u001b[0m\u001b[1;33m]\u001b[0m\u001b[1;33m\u001b[0m\u001b[1;33m\u001b[0m\u001b[0m\n\u001b[0;32m      5\u001b[0m     \u001b[0mprint\u001b[0m\u001b[1;33m(\u001b[0m\u001b[0mcompanyname\u001b[0m\u001b[1;33m)\u001b[0m\u001b[1;33m\u001b[0m\u001b[1;33m\u001b[0m\u001b[0m\n",
      "\u001b[1;31mKeyError\u001b[0m: 'quoteType'"
     ]
    }
   ],
   "source": [
    "for symbols in list(fundamentals):\n",
    "    companyname = fundamentals[symbols]['quoteType']['longName']\n",
    "    marketcap = fundamentals[symbols]['price']['marketCap']\n",
    "    country = fundamentals[symbols]['summaryProfile']['country']\n",
    "    print(companyname)\n",
    "    print(marketcap)\n",
    "    print(country)\n",
    "    \n",
    "\n",
    "\n",
    "\n",
    "# print(fundamentals['ARHN'])\n",
    "# print('============================')\n",
    "\n",
    "# for\n",
    "\n",
    "# print(item)\n",
    "# print('============================')\n",
    "# print(defaultKeyStatistics)\n",
    "# print('============================')\n",
    "# print(enterpriseToRevenue)\n",
    "\n",
    "\n",
    "# \n",
    "# for\n",
    "# Stockrankings_list.append(Stockrankings())\n",
    "\n",
    "# Stockrankings.objects.bulk_create()"
   ]
  }
 ],
 "metadata": {
  "interpreter": {
   "hash": "747c7b094eff8f465f00b73f1c2fc246dc10174063032232506c5ae84d4f5a61"
  },
  "kernelspec": {
   "display_name": "Python 3.9.6 64-bit ('venv': venv)",
   "name": "python3"
  },
  "language_info": {
   "codemirror_mode": {
    "name": "ipython",
    "version": 3
   },
   "file_extension": ".py",
   "mimetype": "text/x-python",
   "name": "python",
   "nbconvert_exporter": "python",
   "pygments_lexer": "ipython3",
   "version": "3.9.6"
  },
  "orig_nbformat": 4
 },
 "nbformat": 4,
 "nbformat_minor": 2
}
